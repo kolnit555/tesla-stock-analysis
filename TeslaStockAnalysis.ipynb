{
  "nbformat": 4,
  "nbformat_minor": 0,
  "metadata": {
    "colab": {
      "provenance": [],
      "authorship_tag": "ABX9TyO9jIE43ZF9rA/6C85uf08+",
      "include_colab_link": true
    },
    "kernelspec": {
      "name": "python3",
      "display_name": "Python 3"
    },
    "language_info": {
      "name": "python"
    }
  },
  "cells": [
    {
      "cell_type": "markdown",
      "metadata": {
        "id": "view-in-github",
        "colab_type": "text"
      },
      "source": [
        "<a href=\"https://colab.research.google.com/github/kolnit555/tesla-stock-analysis/blob/main/TeslaStockAnalysis.ipynb\" target=\"_parent\"><img src=\"https://colab.research.google.com/assets/colab-badge.svg\" alt=\"Open In Colab\"/></a>"
      ]
    },
    {
      "cell_type": "code",
      "execution_count": 2,
      "metadata": {
        "colab": {
          "base_uri": "https://localhost:8080/"
        },
        "id": "ITwDVsjOj50Q",
        "outputId": "87c01672-71b4-4b39-8a86-8cb712fdc538"
      },
      "outputs": [
        {
          "output_type": "stream",
          "name": "stdout",
          "text": [
            "Requirement already satisfied: yfinance in /usr/local/lib/python3.11/dist-packages (0.2.54)\n",
            "Requirement already satisfied: pandas>=1.3.0 in /usr/local/lib/python3.11/dist-packages (from yfinance) (2.2.2)\n",
            "Requirement already satisfied: numpy>=1.16.5 in /usr/local/lib/python3.11/dist-packages (from yfinance) (2.0.2)\n",
            "Requirement already satisfied: requests>=2.31 in /usr/local/lib/python3.11/dist-packages (from yfinance) (2.32.3)\n",
            "Requirement already satisfied: multitasking>=0.0.7 in /usr/local/lib/python3.11/dist-packages (from yfinance) (0.0.11)\n",
            "Requirement already satisfied: platformdirs>=2.0.0 in /usr/local/lib/python3.11/dist-packages (from yfinance) (4.3.6)\n",
            "Requirement already satisfied: pytz>=2022.5 in /usr/local/lib/python3.11/dist-packages (from yfinance) (2025.1)\n",
            "Requirement already satisfied: frozendict>=2.3.4 in /usr/local/lib/python3.11/dist-packages (from yfinance) (2.4.6)\n",
            "Requirement already satisfied: peewee>=3.16.2 in /usr/local/lib/python3.11/dist-packages (from yfinance) (3.17.9)\n",
            "Requirement already satisfied: beautifulsoup4>=4.11.1 in /usr/local/lib/python3.11/dist-packages (from yfinance) (4.13.3)\n",
            "Requirement already satisfied: soupsieve>1.2 in /usr/local/lib/python3.11/dist-packages (from beautifulsoup4>=4.11.1->yfinance) (2.6)\n",
            "Requirement already satisfied: typing-extensions>=4.0.0 in /usr/local/lib/python3.11/dist-packages (from beautifulsoup4>=4.11.1->yfinance) (4.12.2)\n",
            "Requirement already satisfied: python-dateutil>=2.8.2 in /usr/local/lib/python3.11/dist-packages (from pandas>=1.3.0->yfinance) (2.8.2)\n",
            "Requirement already satisfied: tzdata>=2022.7 in /usr/local/lib/python3.11/dist-packages (from pandas>=1.3.0->yfinance) (2025.1)\n",
            "Requirement already satisfied: charset-normalizer<4,>=2 in /usr/local/lib/python3.11/dist-packages (from requests>=2.31->yfinance) (3.4.1)\n",
            "Requirement already satisfied: idna<4,>=2.5 in /usr/local/lib/python3.11/dist-packages (from requests>=2.31->yfinance) (3.10)\n",
            "Requirement already satisfied: urllib3<3,>=1.21.1 in /usr/local/lib/python3.11/dist-packages (from requests>=2.31->yfinance) (2.3.0)\n",
            "Requirement already satisfied: certifi>=2017.4.17 in /usr/local/lib/python3.11/dist-packages (from requests>=2.31->yfinance) (2025.1.31)\n",
            "Requirement already satisfied: six>=1.5 in /usr/local/lib/python3.11/dist-packages (from python-dateutil>=2.8.2->pandas>=1.3.0->yfinance) (1.17.0)\n",
            "YF.download() has changed argument auto_adjust default to True\n"
          ]
        },
        {
          "output_type": "stream",
          "name": "stderr",
          "text": [
            "[*********************100%***********************]  1 of 1 completed\n",
            "[*********************100%***********************]  1 of 1 completed"
          ]
        },
        {
          "output_type": "stream",
          "name": "stdout",
          "text": [
            "Price          Close      High       Low      Open     Volume\n",
            "Ticker          TSLA      TSLA      TSLA      TSLA       TSLA\n",
            "Date                                                         \n",
            "2010-06-29  1.592667  1.666667  1.169333  1.266667  281494500\n",
            "2010-06-30  1.588667  2.028000  1.553333  1.719333  257806500\n",
            "2010-07-01  1.464000  1.728000  1.351333  1.666667  123282000\n",
            "2010-07-02  1.280000  1.540000  1.247333  1.533333   77097000\n",
            "2010-07-06  1.074000  1.333333  1.055333  1.333333  103003500\n",
            "Price          Close      High       Low      Open     Volume\n",
            "Ticker          TSLA      TSLA      TSLA      TSLA       TSLA\n",
            "Date                                                         \n",
            "2010-06-29  1.592667  1.666667  1.169333  1.266667  281494500\n",
            "2010-06-30  1.588667  2.028000  1.553333  1.719333  257806500\n",
            "2010-07-01  1.464000  1.728000  1.351333  1.666667  123282000\n",
            "2010-07-02  1.280000  1.540000  1.247333  1.533333   77097000\n",
            "2010-07-06  1.074000  1.333333  1.055333  1.333333  103003500\n"
          ]
        },
        {
          "output_type": "stream",
          "name": "stderr",
          "text": [
            "\n"
          ]
        }
      ],
      "source": [
        "#Install yahoo Finance tool\n",
        "!pip install yfinance\n",
        "# Yahoo finance tool for fetching Tesla Data\n",
        "import yfinance as yf\n",
        "#Pandas will be helpful for data processing\n",
        "import pandas as pd\n",
        "# Define Tesla's ticker symbol\n",
        "ticker_symbol = \"TSLA\"\n",
        "# Download historical data for Tesla (Start Date , End Date and interval is 1 Day)\n",
        "tesla_data = yf.download(ticker_symbol, start=\"2000-01-01\", end=\"2024-03-20\", interval=\"1d\")\n",
        "# Display the first few rows\n",
        "print(tesla_data.head())\n",
        "\n",
        "#Pandas will be helpful for data processing\n",
        "import pandas as pd\n",
        "# Define Tesla's ticker symbol\n",
        "ticker_symbol = \"TSLA\"\n",
        "# Download historical data for Tesla (Start Date , End Date and interval is 1 Day)\n",
        "tesla_data = yf.download(ticker_symbol, start=\"2000-01-01\", end=\"2024-03-20\", interval=\"1d\")\n",
        "# Display the first few rows\n",
        "print(tesla_data.head())"
      ]
    }
  ]
}