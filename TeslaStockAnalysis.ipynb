{
  "nbformat": 4,
  "nbformat_minor": 0,
  "metadata": {
    "colab": {
      "provenance": [],
      "authorship_tag": "ABX9TyNPWZm/58Cfn5EQlHhc7gS7",
      "include_colab_link": true
    },
    "kernelspec": {
      "name": "python3",
      "display_name": "Python 3"
    },
    "language_info": {
      "name": "python"
    }
  },
  "cells": [
    {
      "cell_type": "markdown",
      "metadata": {
        "id": "view-in-github",
        "colab_type": "text"
      },
      "source": [
        "<a href=\"https://colab.research.google.com/github/kolnit555/tesla-stock-analysis/blob/main/TeslaStockAnalysis.ipynb\" target=\"_parent\"><img src=\"https://colab.research.google.com/assets/colab-badge.svg\" alt=\"Open In Colab\"/></a>"
      ]
    },
    {
      "cell_type": "code",
      "execution_count": 14,
      "metadata": {
        "colab": {
          "base_uri": "https://localhost:8080/"
        },
        "id": "ITwDVsjOj50Q",
        "outputId": "f6beac5f-f6ec-4aee-d284-7dfb4e580169"
      },
      "outputs": [
        {
          "output_type": "stream",
          "name": "stdout",
          "text": [
            "                       Date        Open        High         Low       Close  \\\n",
            "0 2024-03-20 00:00:00-04:00  173.000000  176.250000  170.820007  175.660004   \n",
            "1 2024-03-21 00:00:00-04:00  176.389999  178.179993  171.800003  172.820007   \n",
            "2 2024-03-22 00:00:00-04:00  166.690002  171.199997  166.300003  170.830002   \n",
            "3 2024-03-25 00:00:00-04:00  168.759995  175.240005  168.729996  172.630005   \n",
            "4 2024-03-26 00:00:00-04:00  178.580002  184.250000  177.380005  177.669998   \n",
            "\n",
            "      Volume  Dividends  Stock Splits  \n",
            "0   83846700        0.0           0.0  \n",
            "1   73178000        0.0           0.0  \n",
            "2   75454700        0.0           0.0  \n",
            "3   74228600        0.0           0.0  \n",
            "4  113186200        0.0           0.0  \n"
          ]
        }
      ],
      "source": [
        "import yfinance as yf\n",
        "import pandas as pd\n",
        "\n",
        "# Define the Tesla ticker symbol\n",
        "ticker_symbol = \"TSLA\"\n",
        "\n",
        "# Fetch Tesla stock data\n",
        "tesla_stock = yf.Ticker(ticker_symbol)\n",
        "\n",
        "# Get historical market data (last 1 year)\n",
        "tesla_df = tesla_stock.history(period=\"1Y\")\n",
        "\n",
        "# Reset the index\n",
        "tesla_df.reset_index(inplace=True)\n",
        "\n",
        "# Save to CSV file\n",
        "tesla_df.to_csv(\"tesla_stock_data.csv\", index=False)\n",
        "\n",
        "# Display first 5 rows\n",
        "print(tesla_df.head())\n"
      ]
    }
  ]
}